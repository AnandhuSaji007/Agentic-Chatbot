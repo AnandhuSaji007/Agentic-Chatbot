{
 "cells": [
  {
   "cell_type": "code",
   "execution_count": 1,
   "id": "bb44cef2",
   "metadata": {},
   "outputs": [],
   "source": [
    "from langchain_community.tools import ArxivQueryRun,WikipediaQueryRun\n",
    "from langchain_community.utilities import WikipediaAPIWrapper,ArxivAPIWrapper"
   ]
  },
  {
   "cell_type": "code",
   "execution_count": 2,
   "id": "173a13ab",
   "metadata": {},
   "outputs": [],
   "source": [
    "api_wrapper_arxiv=ArxivAPIWrapper(top_k_results=2,doc_content_chars_max=500)\n",
    "arxiv=ArxivQueryRun(api_wrapper=api_wrapper_arxiv,description=\"Query arxiv papers\")"
   ]
  },
  {
   "cell_type": "code",
   "execution_count": 3,
   "id": "14a0f2f6",
   "metadata": {},
   "outputs": [],
   "source": [
    "api_wrapper_wiki=WikipediaAPIWrapper(top_k_results=1,doc_content_chars_max=500)\n",
    "wiki=WikipediaQueryRun(api_wrapper=api_wrapper_wiki)"
   ]
  },
  {
   "cell_type": "code",
   "execution_count": 4,
   "id": "3f1ef93c",
   "metadata": {},
   "outputs": [],
   "source": [
    "from dotenv import load_dotenv\n",
    "load_dotenv()\n",
    "import os\n",
    "\n",
    "os.environ[\"TAVILY_API_KEY\"]=os.getenv(\"TAVILY_API_KEY\")\n",
    "os.environ[\"GROQ_API_KEY\"]=os.getenv(\"GROQ_API_KEY\")"
   ]
  },
  {
   "cell_type": "code",
   "execution_count": 5,
   "id": "362a5126",
   "metadata": {},
   "outputs": [
    {
     "name": "stderr",
     "output_type": "stream",
     "text": [
      "C:\\Users\\WIIS\\AppData\\Local\\Temp\\ipykernel_20760\\1016542888.py:2: LangChainDeprecationWarning: The class `TavilySearchResults` was deprecated in LangChain 0.3.25 and will be removed in 1.0. An updated version of the class exists in the :class:`~langchain-tavily package and should be used instead. To use it run `pip install -U :class:`~langchain-tavily` and import as `from :class:`~langchain_tavily import TavilySearch``.\n",
      "  tavily =TavilySearchResults()\n"
     ]
    }
   ],
   "source": [
    "from langchain_community.tools.tavily_search import TavilySearchResults\n",
    "tavily =TavilySearchResults()"
   ]
  },
  {
   "cell_type": "code",
   "execution_count": 6,
   "id": "195e8393",
   "metadata": {},
   "outputs": [],
   "source": [
    "tools=[arxiv,wiki,tavily]"
   ]
  },
  {
   "cell_type": "code",
   "execution_count": 7,
   "id": "2da66b93",
   "metadata": {},
   "outputs": [],
   "source": [
    "from langchain_groq import ChatGroq\n",
    "llm=ChatGroq(model=\"qwen/qwen3-32b\")"
   ]
  },
  {
   "cell_type": "code",
   "execution_count": 8,
   "id": "e7c6a5ee",
   "metadata": {},
   "outputs": [
    {
     "data": {
      "text/plain": [
       "AIMessage(content='<think>\\nOkay, the user asked \"Who are you?\" and I need to respond. First, I should recall my standard introduction. I\\'m Qwen, a large language model developed by Alibaba Cloud\\'s Tongyi Lab. I should mention my capabilities like answering questions, creating text, and supporting programming. Also, I need to include how I can help the user. But I need to keep it concise and friendly. Let me check if there\\'s anything new in my version that should be highlighted. Oh right, the user might be interested in the latest features like code writing or multi-language support. I should make sure the response is clear and approachable, inviting them to ask for help. Avoid technical jargon. Make sure it\\'s all in natural, conversational English. Let me put that together smoothly.\\n</think>\\n\\nHello! I\\'m Qwen, a large language model developed by Tongyi Lab under Alibaba Group. I can help you with answering questions, creating text (like writing stories, official documents, emails, and scripts), logical reasoning, programming, and more. I support multiple languages and can assist in various scenarios, such as expressing opinions, playing games, and even writing code. How can I assist you today? Feel free to let me know if you have any questions or need help with anything!', additional_kwargs={}, response_metadata={'token_usage': {'completion_tokens': 265, 'prompt_tokens': 12, 'total_tokens': 277, 'completion_time': 0.718526028, 'prompt_time': 0.006334828, 'queue_time': 0.049725992, 'total_time': 0.724860856}, 'model_name': 'qwen/qwen3-32b', 'system_fingerprint': 'fp_5cf921caa2', 'service_tier': 'on_demand', 'finish_reason': 'stop', 'logprobs': None}, id='run--99012d32-0d1c-4649-839e-f1f6a4798205-0', usage_metadata={'input_tokens': 12, 'output_tokens': 265, 'total_tokens': 277})"
      ]
     },
     "execution_count": 8,
     "metadata": {},
     "output_type": "execute_result"
    }
   ],
   "source": [
    "llm.invoke(\"Who are you?\")"
   ]
  },
  {
   "cell_type": "code",
   "execution_count": 9,
   "id": "656dc4d9",
   "metadata": {},
   "outputs": [],
   "source": [
    "llm_with_tools=llm.bind_tools(tools=tools)"
   ]
  },
  {
   "cell_type": "code",
   "execution_count": 10,
   "id": "98dd74d0",
   "metadata": {},
   "outputs": [
    {
     "data": {
      "text/plain": [
       "AIMessage(content='', additional_kwargs={'reasoning_content': 'Okay, the user is asking for recent news in AI. I need to figure out which tool to use here. Let me check the available functions. There\\'s arxiv, wikipedia, and tavily_search_results_json. \\n\\nArxiv is for academic papers, so maybe not the best choice for general news. Wikipedia is good for general knowledge but might not have the most up-to-date news. The third option, tavily_search_results_json, is described as a search engine optimized for current events. That sounds like the right tool here.\\n\\nI should use tavily_search_results_json with a query like \"recent news in AI\" or \"latest AI developments\". Let me make sure the parameters are correct. The function requires a \"query\" parameter, which I\\'ll set to \"recent news in AI\". \\n\\nDouble-checking if there\\'s any reason not to use this tool. The user didn\\'t specify a particular subfield of AI, so a general query should work. I\\'ll proceed with that.\\n', 'tool_calls': [{'id': '7b43dh62v', 'function': {'arguments': '{\"query\":\"recent news in AI\"}', 'name': 'tavily_search_results_json'}, 'type': 'function'}]}, response_metadata={'token_usage': {'completion_tokens': 232, 'prompt_tokens': 354, 'total_tokens': 586, 'completion_time': 0.428062573, 'prompt_time': 0.019797031, 'queue_time': 0.049315659, 'total_time': 0.447859604}, 'model_name': 'qwen/qwen3-32b', 'system_fingerprint': 'fp_5cf921caa2', 'service_tier': 'on_demand', 'finish_reason': 'tool_calls', 'logprobs': None}, id='run--b22c5d5c-6862-40e4-8f11-e5b31946edf7-0', tool_calls=[{'name': 'tavily_search_results_json', 'args': {'query': 'recent news in AI'}, 'id': '7b43dh62v', 'type': 'tool_call'}], usage_metadata={'input_tokens': 354, 'output_tokens': 232, 'total_tokens': 586})"
      ]
     },
     "execution_count": 10,
     "metadata": {},
     "output_type": "execute_result"
    }
   ],
   "source": [
    "llm_with_tools.invoke(\"what is the recent news in ai?\")"
   ]
  },
  {
   "cell_type": "code",
   "execution_count": 11,
   "id": "dd64b882",
   "metadata": {},
   "outputs": [],
   "source": [
    "from typing_extensions import TypedDict\n",
    "from langchain_core.messages import AnyMessage\n",
    "from typing import Annotated\n",
    "from langgraph.graph.message import add_messages "
   ]
  },
  {
   "cell_type": "code",
   "execution_count": 12,
   "id": "2998d64e",
   "metadata": {},
   "outputs": [],
   "source": [
    "class state(TypedDict):\n",
    "    messages:Annotated[list[AnyMessage],add_messages]\n"
   ]
  },
  {
   "cell_type": "code",
   "execution_count": 13,
   "id": "d351bda3",
   "metadata": {},
   "outputs": [],
   "source": [
    "from IPython.display import Image,display\n",
    "from langgraph.graph import StateGraph,START,END\n",
    "from langgraph.prebuilt import ToolNode\n",
    "from langgraph.prebuilt import tools_condition"
   ]
  },
  {
   "cell_type": "code",
   "execution_count": 26,
   "id": "13c5b405",
   "metadata": {},
   "outputs": [
    {
     "data": {
      "text/plain": [
       "<langgraph.graph.state.StateGraph at 0x1ef403430b0>"
      ]
     },
     "execution_count": 26,
     "metadata": {},
     "output_type": "execute_result"
    }
   ],
   "source": [
    "#Node Defintition\n",
    "def tool_calling_llm(state:state):\n",
    "    return {\"messages\":[llm_with_tools.invoke(state[\"messages\"])]}\n",
    "\n",
    "# Build Graph\n",
    "builder=StateGraph(state)\n",
    "builder.add_node(\"tool_calling_llm\",tool_calling_llm)\n",
    "builder.add_node(\"tools\",ToolNode(tools))"
   ]
  },
  {
   "cell_type": "code",
   "execution_count": 27,
   "id": "6bd3feb9",
   "metadata": {},
   "outputs": [
    {
     "data": {
      "text/plain": [
       "<langgraph.graph.state.StateGraph at 0x1ef403430b0>"
      ]
     },
     "execution_count": 27,
     "metadata": {},
     "output_type": "execute_result"
    }
   ],
   "source": [
    "# Edges\n",
    "builder.add_edge(START,\"tool_calling_llm\")\n",
    "builder.add_conditional_edges(\"tool_calling_llm\",tools_condition)\n",
    "builder.add_edge(\"tools\",\"tool_calling_llm\")"
   ]
  },
  {
   "cell_type": "code",
   "execution_count": 28,
   "id": "ceb27400",
   "metadata": {},
   "outputs": [
    {
     "data": {
      "image/png": "[encoded data removed]",
      "text/plain": [
       "<IPython.core.display.Image object>"
      ]
     },
     "metadata": {},
     "output_type": "display_data"
    }
   ],
   "source": [
    "graph=builder.compile()\n",
    "display(Image(graph.get_graph().draw_mermaid_png()))"
   ]
  },
  {
   "cell_type": "code",
   "execution_count": 29,
   "id": "4a5ca6f0",
   "metadata": {},
   "outputs": [
    {
     "name": "stdout",
     "output_type": "stream",
     "text": [
      "================================\u001b[1m Human Message \u001b[0m=================================\n",
      "\n",
      "give latest news in ai and then give about attention is all needed research paper\n",
      "==================================\u001b[1m Ai Message \u001b[0m==================================\n",
      "Tool Calls:\n",
      "  tavily_search_results_json (5ncr2ebbd)\n",
      " Call ID: 5ncr2ebbd\n",
      "  Args:\n",
      "    query: latest news in AI 2024\n",
      "  arxiv (18xqsv33h)\n",
      " Call ID: 18xqsv33h\n",
      "  Args:\n",
      "    query: Attention is All You Need research paper\n",
      "=================================\u001b[1m Tool Message \u001b[0m=================================\n",
      "Name: tavily_search_results_json\n",
      "\n",
      "[{\"title\": \"Year in review: Google's biggest AI advancements of 2024\", \"url\": \"https://blog.google/technology/ai/2024-ai-extraordinary-progress-advancement/\", \"content\": \"This article summarizes Google's AI advancements in 2024, highlighting their commitment to responsible development.\\n Google released Gemini 2.0, a powerful AI model designed for the \\\"agentic era,\\\" and integrated it into various products.\\n They made significant progress in generative AI, releasing updates to Imagen, Veo, and MusicFX, empowering creativity.\\n Google also advanced robotics, hardware, and computing, with breakthroughs in quantum computing and chip design. [...] In December 2024, we released the first models in our Gemini 2.0 experimental series — AI models designed for the agentic era. First out of the gate was Gemini 2.0 Flash, our workhorse model, followed by prototypes from the frontiers of our agentic research including: an updated Project Astra, which explores the capabilities of a universal AI assistant; Project Mariner, an early prototype capable of taking actions in Chrome as an experimental extension; and Jules, an AI-powered code agent. [...] We continued researching misuse, conducting a study that found the two most common types of misuse were deep fakes and jailbreaks. In May, we introduced The Frontier Safety Framework, which established protocols for identifying the emerging capabilities of our most advanced AI models, and launched our AI Responsibility Lifecycle framework to the public. In October, we expanded our Responsible GenAI Toolkit to work with any LLM, giving developers more tools to build AI responsibly.\", \"score\": 0.8923472}, {\"title\": \"Your AI Update - April 2024 | News\", \"url\": \"https://altech.nd.edu/events-news/news/your-ai-update-april-2024/\", \"content\": \"University of Notre Dame\\n\\nTechnology & Digital Studies Program\\n\\nCollege of Arts and Letters\\n\\n# Your AI Update - April 2024\\n\\nPublished: April 24, 2024\\n\\nAuthor: Christian Martin\\n\\n## Your AI Update—April 2024\\n\\nRobot and dog watch the moon\\n\\nKeep up with recent news in the world of Generative AI, including new features, AI in the workplace, social and ethical implications, regulations, and research revelations from the past month (15m read).\\n\\n### Tech Titans: New Features, Products, and More [...] This new generation of models would be able to reason, plan, and, even, “have memory,” according to Vice President of AI Research at Meta, Joelle Pineau. Additionally, Meta plans to roll out Llama 3, which will be integrated into WhatsApp and Ray Ban’s AI glasses. The latter has a lot of potential, for instance, Llama 3 could use the glasses’ integrated cameras to guide users to fix common household problems, such as a broken coffee maker.~ [...] After more than a year of consistently releasing paid-version vs. free-version applications, AI companies have recently been toying with cheaper, more accessible formats. OpenAI now allows their free ChatGPT 3.5 to be utilized without logging in. While this prohibits users from saving their conversations for future review, users will still be allowed to opt out of data sharing. In doing so, OpenAI is seemingly lowering the barriers for consumers to use AI. On the other hand, Google is raising\", \"score\": 0.8921218}, {\"title\": \"How artificial intelligence impacted our lives in 2024 and ...\", \"url\": \"https://www.pbs.org/newshour/show/how-artificial-intelligence-impacted-our-lives-in-2024-and-whats-next\", \"content\": \"Artificial intelligence continued to redefine the tech landscape in 2024, driving change in a wide range of fields. AI has quickly become a part of everyday life, with AI-powered features integrated into everything from search engines and cell phones to hospital equipment and politics. Jeffrey Brown discussed the year's ups and downs in AI advancement with Reed Albergotti of Semafor.\\n\\n## Read the Full Transcript [...] Notice: Transcripts are machine and human generated and lightly edited for accuracy. They may contain errors.\\n\\nNick Schifrin:\\n\\n2024 will be known as the year that artificial intelligence redefined the technology landscape. 2025 may be known as the year that the United States and tech leader allies of president-elect Trump try to win an A.I. race with China.\\n\\nJeffrey Brown takes a look at the ups and downs of A.I. advancement.\\n\\nJeffrey Brown: [...] We also saw Tesla's full self-driving make big strides. So that's really interesting. I think another one with A.I. models were these text-to-video models, which were sort of teased by OpenAI's Sora earlier this year. That's now available to the public. And these allow you to prompt a model with text. And it comes up with this video that's really almost indistinguishable from reality.\", \"score\": 0.8235701}, {\"title\": \"The 2025 AI Index Report | Stanford HAI\", \"url\": \"https://hai.stanford.edu/ai-index/2025-ai-index-report\", \"content\": \"In 2024, U.S. private AI investment grew to $109.1 billion—nearly 12 times China’s $9.3 billion and 24 times the U.K.’s $4.5 billion. Generative AI saw particularly strong momentum, attracting $33.9 billion globally in private investment—an 18.7% increase from 2023. AI business usage is also accelerating: 78% of organizations reported using AI in 2024, up from 55% the year before. Meanwhile, a growing body of research confirms that AI boosts productivity and, in most cases, helps narrow skill [...] In 2024, U.S.-based institutions produced 40 notable AI models, significantly outpacing China’s 15 and Europe’s three. While the U.S. maintains its lead in quantity, Chinese models have rapidly closed the quality gap: performance differences on major benchmarks such as MMLU and HumanEval shrank from double digits in 2023 to near parity in 2024. Meanwhile, China continues to lead in AI publications and patents. At the same time, model development is increasingly global, with notable launches [...] Nearly 90% of notable AI models in 2024 came from industry, up from 60% in 2023, while academia remains the top source of highly cited research. Model scale continues to grow rapidly—training compute doubles every five months, datasets every eight, and power use annually. Yet performance gaps are shrinking: the score difference between the top and 10th-ranked models fell from 11.9% to 5.4% in a year, and the top two are now separated by just 0.7%. The frontier is increasingly competitive—and\", \"score\": 0.77650476}, {\"title\": \"Artificial intelligence (AI) | The Guardian\", \"url\": \"https://www.theguardian.com/technology/artificialintelligenceai\", \"content\": \"## Artificial intelligence (AI)\\n\\n## 18 September 2025\\n\\nman stands in front of black screen with words in white\\n\\n### Nvidia to invest $5bn in Intel after Trump administration’s 10% stake\\n\\nMassive Attack performing in 2024.\\n\\n### Massive Attack remove music from Spotify to protest against CEO Daniel Ek’s investment in AI military\\n\\nDonald Trump meets Keir Starmer at Chequers during his second state visit on 18 September 2025. [...] Close up view of hands on a keyboard and a stethoscope on a table\\n\\n### New AI tool can predict a person’s risk of more than 1,000 diseases, say experts\\n\\n### What is new in UK-US tech deal and what will it mean for the British economy?\\n\\n### UK is going to be ‘AI superpower’, says Nvidia boss as he invests £500m\\n\\n### ChatGPT developing age-verification system to identify under-18 users after teen death\\n\\n## 16 September 2025\\n\\nStudent using mobile phone and laptop [...] ### AI could never replace my authors. But, without regulation, it will ruin publishing as we know it\\n\\n## 17 September 2025\\n\\nMeta Ray-Band Display glasses and the Meta Neural Band\\n\\n### Meta announces first Ray-Ban smart glasses with in-built augmented reality display\\n\\nGemini logo on a smartphone \\n\\n### Google DeepMind claims ‘historic’ AI breakthrough in problem solving\\n\\nNick Clegg\\n\\n### Nick Clegg: US-UK tech deal is ‘sloppy seconds from Silicon Valley’\", \"score\": 0.68723184}]\n",
      "=================================\u001b[1m Tool Message \u001b[0m=================================\n",
      "Name: arxiv\n",
      "\n",
      "Published: 2022-07-05\n",
      "Title: Betti numbers of attention graphs is all you really need\n",
      "Authors: Laida Kushnareva, Dmitri Piontkovski, Irina Piontkovskaya\n",
      "Summary: We apply methods of topological analysis to the attention graphs, calculated\n",
      "on the attention heads of the BERT model ( arXiv:1810.04805v2 ). Our research\n",
      "shows that the classifier built upon basic persistent topological features\n",
      "(namely, Betti numbers) of the trained neural network can achieve\n",
      "classification results on par with the con\n",
      "==================================\u001b[1m Ai Message \u001b[0m==================================\n",
      "\n",
      "Here's a concise summary of the latest AI news and the \"Attention is All You Need\" research paper:\n",
      "\n",
      "---\n",
      "\n",
      "### **Latest AI News (2024 Highlights)**  \n",
      "1. **Google's Gemini 2.0**  \n",
      "   - Released in December 2024, this experimental model series includes **Gemini 2.0 Flash** (a workhorse model) and prototypes like **Project Astra** (universal AI assistant) and **Project Mariner** (AI integration into Chrome).  \n",
      "   - Google emphasized **responsible AI development**, publishing a study on misuse (e.g., deepfakes, jailbreaks) and expanding its **AI Responsibility Lifecycle** framework.  \n",
      "\n",
      "2. **Meta's Llama 3**  \n",
      "   - Meta plans to launch **Llama 3** in 2024, integrated into **WhatsApp** and **Ray-Ban AI glasses**, enabling real-world applications like troubleshooting household devices.  \n",
      "\n",
      "3. **OpenAI's Accessibility Push**  \n",
      "   - OpenAI allowed **free use of ChatGPT 3.5** without login requirements, though with data-sharing opt-outs, to lower AI usage barriers.  \n",
      "\n",
      "4. **AI in Hardware & Healthcare**  \n",
      "   - Tesla advanced **full self-driving** systems.  \n",
      "   - New AI tools like **Sora** (text-to-video generation) became publicly available, creating hyper-realistic videos from text prompts.  \n",
      "\n",
      "5. **Global AI Growth**  \n",
      "   - U.S. private AI investment hit **$109.1B** in 2024, with generative AI attracting **$33.9B** globally (Stanford AI Index Report).  \n",
      "\n",
      "---\n",
      "\n",
      "### **\"Attention is All You Need\" Research Paper**  \n",
      "The foundational 2017 paper by **Vaswani et al.** introduced the **Transformer** model, revolutionizing NLP by replacing recurrent architectures with **self-attention mechanisms**. Key contributions:  \n",
      "- **Self-Attention**: Enables models to dynamically weigh relationships between input elements.  \n",
      "- **Scalability**: Transformers outperform RNNs/LSTMs in parallel processing, enabling large-scale language models.  \n",
      "- **Impact**: The paper laid the groundwork for models like **BERT, GPT, and Llama**, shaping modern AI.  \n",
      "\n",
      "**ArXiv Search Result Note**: The arXiv query returned a 2022 paper titled *\"Betti Numbers of Attention Graphs is All You Really Need\"* (authors: Kushnareva et al.), which applies **topological analysis** to BERT’s attention graphs. While related to attention mechanisms, it is a separate study focusing on topological features (e.g., Betti numbers) for model classification.  \n",
      "\n",
      "For the original *\"Attention is All You Need\"* paper, refer to:  \n",
      "- **arXiv ID**: [1706.03762](https://arxiv.org/abs/1706.03762)  \n",
      "- **Published**: June 2017 (Google Brain team).  \n",
      "\n",
      "Let me know if you'd like deeper insights into either topic! 🤖\n"
     ]
    }
   ],
   "source": [
    "messages=graph.invoke({\"messages\":\"give latest news in ai and then give about attention is all needed research paper\"})\n",
    "for m in messages[\"messages\"]:\n",
    "    m.pretty_print()"
   ]
  }
 ],
 "metadata": {
  "kernelspec": {
   "display_name": "agent",
   "language": "python",
   "name": "python3"
  },
  "language_info": {
   "codemirror_mode": {
    "name": "ipython",
    "version": 3
   },
   "file_extension": ".py",
   "mimetype": "text/x-python",
   "name": "python",
   "nbconvert_exporter": "python",
   "pygments_lexer": "ipython3",
   "version": "3.12.11"
  }
 },
 "nbformat": 4,
 "nbformat_minor": 5
}
